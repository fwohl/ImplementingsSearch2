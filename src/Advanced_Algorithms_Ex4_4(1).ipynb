{
  "nbformat": 4,
  "nbformat_minor": 0,
  "metadata": {
    "colab": {
      "provenance": []
    },
    "kernelspec": {
      "name": "python3",
      "display_name": "Python 3"
    },
    "language_info": {
      "name": "python"
    }
  },
  "cells": [
    {
      "cell_type": "markdown",
      "source": [
        "### Exercise 4 Programming exercise"
      ],
      "metadata": {
        "id": "lBiWWMSUD94m"
      }
    },
    {
      "cell_type": "markdown",
      "source": [
        "Assignment:\n",
        "Implement the verification of matrix multiplication by Freivalds’ algorithm.\n",
        "Starting with a correct product A × B = C (all three matrices are of size\n",
        "n × n for some reasonably large n, try to corrupt some entries of C, and\n",
        "check whether the algorithm is able to catch the mistake. Perform multiple\n",
        "independent runs of the algorithm, to get a sense of how often it fails to detect\n",
        "the error."
      ],
      "metadata": {
        "id": "lu_oQka3D7bQ"
      }
    },
    {
      "cell_type": "code",
      "source": [
        "import random"
      ],
      "metadata": {
        "id": "ozaMjvH-aWS3"
      },
      "execution_count": null,
      "outputs": []
    },
    {
      "cell_type": "code",
      "source": [
        "import numpy as np\n",
        "#choose n=4\n",
        "\n",
        "#we generate random matrices A and B with numbers from 0 to 9, compute the product C and introduce an corrupted matrix C1\n",
        "\n",
        "num_rows = 8\n",
        "num_columns = 8\n",
        "A = np.array([[random.randint(0,9) for j in range(num_rows)] for i in range(num_columns)])\n",
        "B = np.array([[random.randint(0,9) for j in range(num_rows)] for i in range(num_columns)])\n",
        "\n",
        "A= np.array([[1,2,3,4],[4,5,3,2],[1,5,7,2],[9,4,9,8]])\n",
        "\n",
        "B= np.array([[9,4,9,8],[1,5,7,2],[1,2,3,4],[4,5,3,2]]).astype(int)\n",
        "\n",
        "C=(A@B)\n",
        "print(C)\n",
        "C1=C-(np.array([[0,0,0,0],[0,0,0,0],[0,0,0,0.0001],[0,0,0,0]]))\n",
        "\n",
        "from random import random\n",
        "import random\n",
        "\n",
        "#this is the freivalds algrithm\n",
        "# it gerenates a random vector with 0 or 1 in the size of the quadratic matrices A and B\n",
        "#substracts the vector from B and from C, computed the product of A and the substracted B vector and\n",
        "#finanlly the differences between this result and the substracted B vector\n",
        "def freivalds(A,B,C):\n",
        "    random_v = [random.randint(0, 1) for e in range(4)]\n",
        "    result=(A@(B@random_v))-(C@random_v)\n",
        "    yesorno=(result==np.array([0,0,0,0])).all()\n",
        "    return yesorno\n",
        "\n",
        "#now we test the freivalds algorithm k times and count how often it is wrong\n",
        "#the algorithm is wrong, when it outputs True, i.e. the two matrices are the same, because they are not because we introduced an error\n",
        "#return1 summarizes the k iterations yielding true only if all iterations\n",
        "def testfreivalds(k):\n",
        "    return1=True\n",
        "    for i in range (k):\n",
        "        result=freivalds(A,B,C1)\n",
        "        return1=return1 & result\n",
        "    return return1\n",
        "\n",
        "#here we report the results of the testing step for k=100, k=10 and k= 100000\n",
        "#we also report the number of errors\n",
        "\n",
        "k=10\n",
        "count=0\n",
        "for i in range (100):\n",
        "    return1= testfreivalds(k)\n",
        "    if (return1==True):\n",
        "        count+=1\n",
        "    p=count/100\n",
        "    p2=p\n",
        "\n",
        "print(\"For k = 10, and 100 iterations \",count, \"times the algorithm was wrong, hence p=\",p2, \"and p <= (1/2)**10 =\", (p2<=(1/2)**10))\n",
        "\n",
        "k=100\n",
        "count=0\n",
        "for i in range (100):\n",
        "    return1= testfreivalds(k)\n",
        "    if (return1==True):#algorithm is wrong\n",
        "        count+=1\n",
        "    p=count/100\n",
        "    p1=p\n",
        "\n",
        "print(\"For k = 100, and 100 iterations \",count, \"times the algorithm was wrong, hence p=\",p1, \"and p <= (1/2)**100 =\", p1<=(1/2)**100)\n",
        "\n",
        "\n",
        "k=100000\n",
        "count=0\n",
        "for i in range (100):\n",
        "    return1= testfreivalds(k)\n",
        "    if (return1==True):\n",
        "        count+=1\n",
        "    p=count/100\n",
        "    p3=p\n",
        "\n",
        "print(\"For k = 100000, and 100 iterations \",count, \"times the algorithm was wrong, hence p=\",p3, \"and p <= (1/2)**100000 =\", p3<=(1/2)**100000)\n",
        "import matplotlib.pyplot as plt"
      ],
      "metadata": {
        "colab": {
          "base_uri": "https://localhost:8080/"
        },
        "id": "br9w3HrIEE16",
        "outputId": "b5cfe18c-502e-419a-ed8c-607a81f894db"
      },
      "execution_count": null,
      "outputs": [
        {
          "output_type": "stream",
          "name": "stdout",
          "text": [
            "[[ 30  40  44  32]\n",
            " [ 52  57  86  58]\n",
            " [ 29  53  71  50]\n",
            " [126 114 160 132]]\n",
            "For k = 10, and 100 iterations  0 times the algorithm was wrong, hence p= 0.0 and p <= (1/2)**10 = True\n",
            "For k = 100, and 100 iterations  0 times the algorithm was wrong, hence p= 0.0 and p <= (1/2)**100 = True\n",
            "For k = 100000, and 100 iterations  0 times the algorithm was wrong, hence p= 0.0 and p <= (1/2)**100000 = True\n"
          ]
        }
      ]
    },
    {
      "cell_type": "markdown",
      "source": [
        "# Does the theoretical analysis of the error probability hold up?"
      ],
      "metadata": {
        "id": "_DdjV1X2XbeB"
      }
    },
    {
      "cell_type": "markdown",
      "source": [
        "The theoretical analysis or the error probability states that the error p is smaller than (1/2)^k for k iterations.\n",
        "We repeated the test 10 times for each k value.\n",
        "We observed that the bigger the k value, the smaller the probability that the error probability was below the theoretical boundary.\n",
        "Hence, the theoretical analysis or the error probability didnt hold up in every case.\n"
      ],
      "metadata": {
        "id": "ErXMkVK8PvCI"
      }
    },
    {
      "cell_type": "markdown",
      "source": [
        "# Is the error rate influenced by the amount of corruption you introduce in C?"
      ],
      "metadata": {
        "id": "E1ZGpc1uQb1e"
      }
    },
    {
      "cell_type": "markdown",
      "source": [
        "We repeat the steps above with a bigger error for the C matrix and more erronous matrix values at all. We observed that the more and the bigger the introduced errors in the matrix are, the smaller the probablity of the error was.\n",
        "\n"
      ],
      "metadata": {
        "id": "tiuWkJAKQgHR"
      }
    },
    {
      "cell_type": "code",
      "source": [
        "C1=C-(np.array([[0,0,0,0],[1,0,0,0],[0,1,0,1],[0,1,0,0]]))\n",
        "k=10\n",
        "count=0\n",
        "for i in range (100):\n",
        "    return1= testfreivalds(k)\n",
        "    if (return1==True):\n",
        "        count+=1\n",
        "    p=count/100\n",
        "    p2=p\n",
        "\n",
        "print(\"For k = 10, and 100 iterations \",count, \"times the algorithm was wrong, hence p=\",p2, \"and p <= (1/2)**10 =\", (p2<=(1/2)**10))\n",
        "\n",
        "k=100\n",
        "count=0\n",
        "for i in range (100):\n",
        "    return1= testfreivalds(k)\n",
        "    if (return1==True):#algorithm is wrong\n",
        "        count+=1\n",
        "    p=count/100\n",
        "    p1=p\n",
        "\n",
        "print(\"For k = 100, and 100 iterations \",count, \"times the algorithm was wrong, hence p=\",p1, \"and p <= (1/2)**100 =\", p1<=(1/2)**100)\n",
        "\n",
        "\n",
        "k=100000\n",
        "count=0\n",
        "for i in range (100):\n",
        "    return1= testfreivalds(k)\n",
        "    if (return1==True):\n",
        "        count+=1\n",
        "    p=count/100\n",
        "    p3=p\n",
        "\n",
        "print(\"For k = 100000, and 100 iterations \",count, \"times the algorithm was wrong, hence p=\",p3, \"and p <= (1/2)**100000 =\", p3<=(1/2)**100000)"
      ],
      "metadata": {
        "colab": {
          "base_uri": "https://localhost:8080/"
        },
        "id": "zYCVasQ5RAUL",
        "outputId": "5fdb2d4d-8e95-45c9-e491-ae207b44a137"
      },
      "execution_count": null,
      "outputs": [
        {
          "output_type": "stream",
          "name": "stdout",
          "text": [
            "For k = 10, and 100 iterations  0 times the algorithm was wrong, hence p= 0.0 and p <= (1/2)**10 = True\n",
            "For k = 100, and 100 iterations  0 times the algorithm was wrong, hence p= 0.0 and p <= (1/2)**100 = True\n",
            "For k = 100000, and 100 iterations  0 times the algorithm was wrong, hence p= 0.0 and p <= (1/2)**100000 = True\n"
          ]
        }
      ]
    },
    {
      "cell_type": "markdown",
      "source": [
        "Is\n",
        "it influenced by the input matrices A and B you pick?\n",
        "\n",
        "Answer:\n",
        "We observed that if there is less variation in the values of the matrices, the error probability is bigger compared to our frst example where we used the same code except the the range of values that were used for A and B."
      ],
      "metadata": {
        "id": "vJzL9ZQgT6UN"
      }
    },
    {
      "cell_type": "code",
      "source": [
        "import numpy as np\n",
        "#choose n=4\n",
        "\n",
        "num_rows = 8\n",
        "num_columns = 8\n",
        "A = np.array([[random.randint(0,5) for j in range(num_rows)] for i in range(num_columns)])\n",
        "B = np.array([[random.randint(0,5) for j in range(num_rows)] for i in range(num_columns)])\n",
        "\n",
        "C=(A@B)\n",
        "print(C)\n",
        "C1=C-(np.array([[0,0,0,0,0,0,0,0],[0,0,0,0,0,0,0,0],[0,0,0,0,0,0,0,0.0001],[0,0,0,0,0,0,0,0],[0,0,0,0,0,0,0,0],[0,0,0,0,0,0,0,0],[0,0,0,0,0,0,0,0],[0,0,0,0,0,0,0,0]]))\n",
        "\n",
        "print(C1)\n",
        "from random import random\n",
        "import random\n",
        "\n",
        "def freivalds(A,B,C):\n",
        "    random_v = [random.randint(0, 1) for e in range(8)]\n",
        "    result=(A@(B@random_v))-(C@random_v)\n",
        "    yesorno=(result==np.array([0,0,0,0,0,0,0,0])).all()\n",
        "    return yesorno\n",
        "\n",
        "#test k times\n",
        "def testfreivalds(k):\n",
        "    return1=True\n",
        "    for i in range (k):\n",
        "        result=freivalds(A,B,C1)\n",
        "        return1=return1 & result\n",
        "        return return1\n",
        "\n",
        "k=10\n",
        "count=0\n",
        "for i in range (100):\n",
        "    return1= testfreivalds(k)\n",
        "    if (return1==True):\n",
        "        count+=1\n",
        "    p=count/100\n",
        "    p2=p\n",
        "\n",
        "print(\"For k = 10, and 100 iterations \",count, \"times the algorithm was wrong, hence p=\",p2, \"and p <= (1/2)**10 =\", (p2<=(1/2)**10))\n",
        "\n",
        "k=100\n",
        "count=0\n",
        "for i in range (100):\n",
        "    return1= testfreivalds(k)\n",
        "    if (return1==True):#algorithm is wrong\n",
        "        count+=1\n",
        "    p=count/100\n",
        "    p1=p\n",
        "\n",
        "print(\"For k = 100, and 100 iterations \",count, \"times the algorithm was wrong, hence p=\",p1, \"and p <= (1/2)**100 =\", p1<=(1/2)**100)\n",
        "\n",
        "\n",
        "k=100000\n",
        "count=0\n",
        "for i in range (100):\n",
        "    return1= testfreivalds(k)\n",
        "    if (return1==True):\n",
        "        count+=1\n",
        "    p=count/100\n",
        "    p3=p\n",
        "\n",
        "print(\"For k = 100000, and 100 iterations \",count, \"times the algorithm was wrong, hence p=\",p3, \"and p <= (1/2)**100000 =\", p3<=(1/2)**100000)\n",
        "import matplotlib.pyplot as plt"
      ],
      "metadata": {
        "colab": {
          "base_uri": "https://localhost:8080/"
        },
        "id": "KAwb-_I4Wyp0",
        "outputId": "ff5447d0-f97d-4af1-fc2b-17fe284c6554"
      },
      "execution_count": null,
      "outputs": [
        {
          "output_type": "stream",
          "name": "stdout",
          "text": [
            "[[40 51 53 50 58 64 76 78]\n",
            " [44 48 31 43 44 40 63 64]\n",
            " [56 85 49 44 57 58 90 90]\n",
            " [38 62 29 23 31 35 56 57]\n",
            " [36 39 46 34 52 39 58 55]\n",
            " [46 63 46 53 48 62 71 80]\n",
            " [28 44 35 32 40 45 57 54]\n",
            " [42 51 23 29 30 30 54 62]]\n",
            "[[40.     51.     53.     50.     58.     64.     76.     78.    ]\n",
            " [44.     48.     31.     43.     44.     40.     63.     64.    ]\n",
            " [56.     85.     49.     44.     57.     58.     90.     89.9999]\n",
            " [38.     62.     29.     23.     31.     35.     56.     57.    ]\n",
            " [36.     39.     46.     34.     52.     39.     58.     55.    ]\n",
            " [46.     63.     46.     53.     48.     62.     71.     80.    ]\n",
            " [28.     44.     35.     32.     40.     45.     57.     54.    ]\n",
            " [42.     51.     23.     29.     30.     30.     54.     62.    ]]\n",
            "For k = 10, and 100 iterations  55 times the algorithm was wrong, hence p= 0.55 and p <= (1/2)**10 = False\n",
            "For k = 100, and 100 iterations  52 times the algorithm was wrong, hence p= 0.52 and p <= (1/2)**100 = False\n",
            "For k = 100000, and 100 iterations  47 times the algorithm was wrong, hence p= 0.47 and p <= (1/2)**100000 = False\n"
          ]
        }
      ]
    },
    {
      "cell_type": "markdown",
      "source": [
        "We conclude, that as the theoretical analysis of the error probability states, the more iterations we use for the freivalds algorithm, the smaller the error probability is. The opposite we observe for the variation in the values of A and B: the smaller the variation, the higher the error. The same holds for the error we introduce in C and: the higher and the more frequent ther error, the smaller the probability for the algorithm to be wrong."
      ],
      "metadata": {
        "id": "kMEiWxvxofov"
      }
    },
    {
      "cell_type": "code",
      "source": [
        "#!sudo apt-get install texlive-xetex texlive-fonts-recommended texlive-plain-generic\n",
        "import os\n",
        "print(os.getcwd())\n",
        "from google.colab import drive\n",
        "drive.mount('/content/drive/')\n",
        "os.chdir(\"/content/drive/My Drive/Colab Notebooks\")\n",
        "!jupyter nbconvert --to pdf 'Advanced Algorithms_Ex4_4.ipynb'"
      ],
      "metadata": {
        "colab": {
          "base_uri": "https://localhost:8080/"
        },
        "id": "5IBSvozDjyFE",
        "outputId": "d9eca227-1cf0-4c56-f4ef-4c313576a840"
      },
      "execution_count": null,
      "outputs": [
        {
          "output_type": "stream",
          "name": "stdout",
          "text": [
            "/content/drive/My Drive/Colab Notebooks\n",
            "Drive already mounted at /content/drive/; to attempt to forcibly remount, call drive.mount(\"/content/drive/\", force_remount=True).\n",
            "[NbConvertApp] Converting notebook Advanced Algorithms_Ex4_4.ipynb to pdf\n",
            "[NbConvertApp] Writing 45506 bytes to notebook.tex\n",
            "[NbConvertApp] Building PDF\n",
            "[NbConvertApp] Running xelatex 3 times: ['xelatex', 'notebook.tex', '-quiet']\n",
            "[NbConvertApp] Running bibtex 1 time: ['bibtex', 'notebook']\n",
            "[NbConvertApp] WARNING | bibtex had problems, most likely because there were no citations\n",
            "[NbConvertApp] PDF successfully created\n",
            "[NbConvertApp] Writing 57194 bytes to Advanced Algorithms_Ex4_4.pdf\n"
          ]
        }
      ]
    }
  ]
}